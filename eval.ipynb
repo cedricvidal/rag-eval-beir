{
 "cells": [
  {
   "cell_type": "code",
   "execution_count": 4,
   "metadata": {},
   "outputs": [
    {
     "name": "stdout",
     "output_type": "stream",
     "text": [
      "2024-06-02 05:34:35 - Downloading scifact.zip ...\n"
     ]
    },
    {
     "name": "stderr",
     "output_type": "stream",
     "text": [
      "/workspaces/rag-eval/datasets/scifact.zip: 100%|██████████| 2.69M/2.69M [00:00<00:00, 2.94MiB/s]\n"
     ]
    },
    {
     "name": "stdout",
     "output_type": "stream",
     "text": [
      "2024-06-02 05:34:38 - Unzipping scifact.zip ...\n",
      "2024-06-02 05:34:38 - Loading Corpus...\n"
     ]
    },
    {
     "name": "stderr",
     "output_type": "stream",
     "text": [
      "100%|██████████| 5183/5183 [00:00<00:00, 172838.26it/s]\n"
     ]
    },
    {
     "name": "stdout",
     "output_type": "stream",
     "text": [
      "2024-06-02 05:34:38 - Loaded 5183 TEST Documents.\n",
      "2024-06-02 05:34:38 - Doc Example: {'text': 'Alterations of the architecture of cerebral white matter in the developing human brain can affect cortical development and result in functional disabilities. A line scan diffusion-weighted magnetic resonance imaging (MRI) sequence with diffusion tensor analysis was applied to measure the apparent diffusion coefficient, to calculate relative anisotropy, and to delineate three-dimensional fiber architecture in cerebral white matter in preterm (n = 17) and full-term infants (n = 7). To assess effects of prematurity on cerebral white matter development, early gestation preterm infants (n = 10) were studied a second time at term. In the central white matter the mean apparent diffusion coefficient at 28 wk was high, 1.8 microm2/ms, and decreased toward term to 1.2 microm2/ms. In the posterior limb of the internal capsule, the mean apparent diffusion coefficients at both times were similar (1.2 versus 1.1 microm2/ms). Relative anisotropy was higher the closer birth was to term with greater absolute values in the internal capsule than in the central white matter. Preterm infants at term showed higher mean diffusion coefficients in the central white matter (1.4 +/- 0.24 versus 1.15 +/- 0.09 microm2/ms, p = 0.016) and lower relative anisotropy in both areas compared with full-term infants (white matter, 10.9 +/- 0.6 versus 22.9 +/- 3.0%, p = 0.001; internal capsule, 24.0 +/- 4.44 versus 33.1 +/- 0.6% p = 0.006). Nonmyelinated fibers in the corpus callosum were visible by diffusion tensor MRI as early as 28 wk; full-term and preterm infants at term showed marked differences in white matter fiber organization. The data indicate that quantitative assessment of water diffusion by diffusion tensor MRI provides insight into microstructural development in cerebral white matter in living infants.', 'title': 'Microstructural development of human newborn cerebral white matter assessed in vivo by diffusion tensor magnetic resonance imaging.'}\n",
      "2024-06-02 05:34:38 - Loading Queries...\n",
      "2024-06-02 05:34:38 - Loaded 300 TEST Queries.\n",
      "2024-06-02 05:34:38 - Query Example: 0-dimensional biomaterials show inductive properties.\n",
      "2024-06-02 05:34:38 - Use pytorch device_name: cpu\n",
      "2024-06-02 05:34:38 - Load pretrained SentenceTransformer: msmarco-distilbert-base-tas-b\n"
     ]
    },
    {
     "name": "stderr",
     "output_type": "stream",
     "text": [
      "/home/vscode/.local/lib/python3.12/site-packages/huggingface_hub/file_download.py:1132: FutureWarning: `resume_download` is deprecated and will be removed in version 1.0.0. Downloads always resume when possible. If you want to force a new download, use `force_download=True`.\n",
      "  warnings.warn(\n"
     ]
    },
    {
     "name": "stdout",
     "output_type": "stream",
     "text": [
      "2024-06-02 05:34:45 - Encoding Queries...\n"
     ]
    },
    {
     "name": "stderr",
     "output_type": "stream",
     "text": [
      "Batches: 100%|██████████| 19/19 [00:05<00:00,  3.37it/s]\n"
     ]
    },
    {
     "name": "stdout",
     "output_type": "stream",
     "text": [
      "2024-06-02 05:34:51 - Sorting Corpus by document length (Longest first)...\n",
      "2024-06-02 05:34:51 - Encoding Corpus in batches... Warning: This might take a while!\n",
      "2024-06-02 05:34:51 - Scoring Function: Dot Product (dot)\n",
      "2024-06-02 05:34:51 - Encoding Batch 1/1...\n"
     ]
    },
    {
     "name": "stderr",
     "output_type": "stream",
     "text": [
      "Batches: 100%|██████████| 324/324 [1:27:04<00:00, 16.12s/it]   \n"
     ]
    },
    {
     "name": "stdout",
     "output_type": "stream",
     "text": [
      "2024-06-02 07:01:55 - For evaluation, we ignore identical query and document ids (default), please explicitly set ``ignore_identical_ids=False`` to ignore this.\n",
      "2024-06-02 07:01:55 - \n",
      "\n",
      "2024-06-02 07:01:55 - NDCG@1: 0.5333\n",
      "2024-06-02 07:01:55 - NDCG@3: 0.5990\n",
      "2024-06-02 07:01:55 - NDCG@5: 0.6215\n",
      "2024-06-02 07:01:55 - NDCG@10: 0.6428\n",
      "2024-06-02 07:01:55 - NDCG@100: 0.6698\n",
      "2024-06-02 07:01:55 - NDCG@1000: 0.6811\n",
      "2024-06-02 07:01:55 - \n",
      "\n",
      "2024-06-02 07:01:55 - MAP@1: 0.5086\n",
      "2024-06-02 07:01:55 - MAP@3: 0.5730\n",
      "2024-06-02 07:01:55 - MAP@5: 0.5892\n",
      "2024-06-02 07:01:55 - MAP@10: 0.5992\n",
      "2024-06-02 07:01:55 - MAP@100: 0.6046\n",
      "2024-06-02 07:01:55 - MAP@1000: 0.6049\n",
      "2024-06-02 07:01:55 - \n",
      "\n",
      "2024-06-02 07:01:55 - Recall@1: 0.5086\n",
      "2024-06-02 07:01:55 - Recall@3: 0.6473\n",
      "2024-06-02 07:01:55 - Recall@5: 0.6998\n",
      "2024-06-02 07:01:55 - Recall@10: 0.7615\n",
      "2024-06-02 07:01:55 - Recall@100: 0.8910\n",
      "2024-06-02 07:01:55 - Recall@1000: 0.9833\n",
      "2024-06-02 07:01:55 - \n",
      "\n",
      "2024-06-02 07:01:55 - P@1: 0.5333\n",
      "2024-06-02 07:01:55 - P@3: 0.2322\n",
      "2024-06-02 07:01:55 - P@5: 0.1560\n",
      "2024-06-02 07:01:55 - P@10: 0.0863\n",
      "2024-06-02 07:01:55 - P@100: 0.0101\n",
      "2024-06-02 07:01:55 - P@1000: 0.0011\n"
     ]
    }
   ],
   "source": [
    "from src.eval import run_eval\n",
    "\n",
    "run_eval()"
   ]
  },
  {
   "cell_type": "code",
   "execution_count": null,
   "metadata": {},
   "outputs": [],
   "source": []
  }
 ],
 "metadata": {
  "kernelspec": {
   "display_name": "Python 3",
   "language": "python",
   "name": "python3"
  },
  "language_info": {
   "codemirror_mode": {
    "name": "ipython",
    "version": 3
   },
   "file_extension": ".py",
   "mimetype": "text/x-python",
   "name": "python",
   "nbconvert_exporter": "python",
   "pygments_lexer": "ipython3",
   "version": "3.12.2"
  }
 },
 "nbformat": 4,
 "nbformat_minor": 2
}
